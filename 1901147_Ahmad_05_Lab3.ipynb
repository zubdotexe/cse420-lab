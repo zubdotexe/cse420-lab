{
  "nbformat": 4,
  "nbformat_minor": 0,
  "metadata": {
    "colab": {
      "name": "1901147_Ahmad_05_Lab3.ipynb",
      "provenance": [],
      "collapsed_sections": [],
      "authorship_tag": "ABX9TyMgGsrl9TnXhvj2PuCHaX8X",
      "include_colab_link": true
    },
    "kernelspec": {
      "name": "python3",
      "display_name": "Python 3"
    },
    "language_info": {
      "name": "python"
    }
  },
  "cells": [
    {
      "cell_type": "markdown",
      "metadata": {
        "id": "view-in-github",
        "colab_type": "text"
      },
      "source": [
        "<a href=\"https://colab.research.google.com/github/zubdotexe/cse420-lab/blob/main/1901147_Ahmad_05_Lab3.ipynb\" target=\"_parent\"><img src=\"https://colab.research.google.com/assets/colab-badge.svg\" alt=\"Open In Colab\"/></a>"
      ]
    },
    {
      "cell_type": "code",
      "execution_count": 4,
      "metadata": {
        "id": "pzKd6DB9RgQD"
      },
      "outputs": [],
      "source": [
        "import re"
      ]
    },
    {
      "cell_type": "code",
      "source": [
        "regex = []\n",
        "print(\"Number of regular expressions?\")\n",
        "no_of_regex = int(input())\n",
        "\n",
        "i = 0\n",
        "while(i < no_of_regex):\n",
        "    temp = input() + \"$\"\n",
        "    regex.append(temp)\n",
        "    i += 1\n",
        "\n",
        "print(\"Number of examples?\")\n",
        "no_of_ex = int(input())\n",
        "ex = []\n",
        "\n",
        "for i in range(no_of_ex):\n",
        "    ex.append(input())\n"
      ],
      "metadata": {
        "colab": {
          "base_uri": "https://localhost:8080/"
        },
        "id": "eqnCerxqRkU8",
        "outputId": "fd306c40-c3b6-4da3-d895-2a04263d4a23"
      },
      "execution_count": 5,
      "outputs": [
        {
          "name": "stdout",
          "output_type": "stream",
          "text": [
            "Number of regular expressions?\n",
            "2\n",
            "ab*cd\n",
            "ab(cd)+e?f\n",
            "Number of examples?\n",
            "3\n",
            "abbbbcd\n",
            "abcdcdef\n",
            "abbcdcef\n"
          ]
        }
      ]
    },
    {
      "cell_type": "code",
      "source": [
        "for i in range(len(regex)):\n",
        "    regex[i] = re.compile(regex[i])\n",
        "\n",
        "for i in range(len(ex)):\n",
        "    # none_matched = 0\n",
        "    for j in range(len(regex)):\n",
        "        if regex[j].match(ex[i]):\n",
        "            print(f\"YES, {j + 1}\")\n",
        "            break\n",
        "        # else:\n",
        "        #     none_matched += 1\n",
        "\n",
        "    # if(none_matched == no_of_regex):\n",
        "    #     print(f\"NO, 0\")\n",
        "    else:\n",
        "        print(f\"NO, 0\")\n",
        "\n"
      ],
      "metadata": {
        "colab": {
          "base_uri": "https://localhost:8080/"
        },
        "id": "LK1QiPU1Rqpb",
        "outputId": "81585b0a-44bc-4993-8116-a2b7623bb4af"
      },
      "execution_count": 6,
      "outputs": [
        {
          "output_type": "stream",
          "name": "stdout",
          "text": [
            "YES, 1\n",
            "YES, 2\n",
            "NO, 0\n"
          ]
        }
      ]
    },
    {
      "cell_type": "code",
      "source": [
        ""
      ],
      "metadata": {
        "id": "-oU0eLxlW3JU"
      },
      "execution_count": 6,
      "outputs": []
    }
  ]
}